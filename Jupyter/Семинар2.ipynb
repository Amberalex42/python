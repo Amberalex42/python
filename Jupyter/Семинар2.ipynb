{
 "cells": [
  {
   "cell_type": "code",
   "execution_count": 42,
   "id": "49b521fe",
   "metadata": {},
   "outputs": [],
   "source": [
    "import pandas as pd"
   ]
  },
  {
   "cell_type": "code",
   "execution_count": 43,
   "id": "a474e8fe",
   "metadata": {},
   "outputs": [],
   "source": [
    "df = pd.read_csv('laptop_price.csv', encoding='cp1251', sep=',')"
   ]
  },
  {
   "cell_type": "code",
   "execution_count": 44,
   "id": "26fda724",
   "metadata": {},
   "outputs": [
    {
     "data": {
      "text/html": [
       "<div>\n",
       "<style scoped>\n",
       "    .dataframe tbody tr th:only-of-type {\n",
       "        vertical-align: middle;\n",
       "    }\n",
       "\n",
       "    .dataframe tbody tr th {\n",
       "        vertical-align: top;\n",
       "    }\n",
       "\n",
       "    .dataframe thead th {\n",
       "        text-align: right;\n",
       "    }\n",
       "</style>\n",
       "<table border=\"1\" class=\"dataframe\">\n",
       "  <thead>\n",
       "    <tr style=\"text-align: right;\">\n",
       "      <th></th>\n",
       "      <th>laptop_ID</th>\n",
       "      <th>Company</th>\n",
       "      <th>Product</th>\n",
       "      <th>TypeName</th>\n",
       "      <th>Inches</th>\n",
       "      <th>ScreenResolution</th>\n",
       "      <th>Cpu</th>\n",
       "      <th>Ram</th>\n",
       "      <th>Memory</th>\n",
       "      <th>Gpu</th>\n",
       "      <th>OpSys</th>\n",
       "      <th>Weight</th>\n",
       "      <th>Price_euros</th>\n",
       "    </tr>\n",
       "  </thead>\n",
       "  <tbody>\n",
       "    <tr>\n",
       "      <th>0</th>\n",
       "      <td>1</td>\n",
       "      <td>Apple</td>\n",
       "      <td>MacBook Pro</td>\n",
       "      <td>Ultrabook</td>\n",
       "      <td>13.3</td>\n",
       "      <td>IPS Panel Retina Display 2560x1600</td>\n",
       "      <td>Intel Core i5 2.3GHz</td>\n",
       "      <td>8GB</td>\n",
       "      <td>128GB SSD</td>\n",
       "      <td>Intel Iris Plus Graphics 640</td>\n",
       "      <td>macOS</td>\n",
       "      <td>1.37kg</td>\n",
       "      <td>1339.69</td>\n",
       "    </tr>\n",
       "    <tr>\n",
       "      <th>1</th>\n",
       "      <td>2</td>\n",
       "      <td>Apple</td>\n",
       "      <td>Macbook Air</td>\n",
       "      <td>Ultrabook</td>\n",
       "      <td>13.3</td>\n",
       "      <td>1440x900</td>\n",
       "      <td>Intel Core i5 1.8GHz</td>\n",
       "      <td>8GB</td>\n",
       "      <td>128GB Flash Storage</td>\n",
       "      <td>Intel HD Graphics 6000</td>\n",
       "      <td>macOS</td>\n",
       "      <td>1.34kg</td>\n",
       "      <td>898.94</td>\n",
       "    </tr>\n",
       "    <tr>\n",
       "      <th>2</th>\n",
       "      <td>3</td>\n",
       "      <td>HP</td>\n",
       "      <td>250 G6</td>\n",
       "      <td>Notebook</td>\n",
       "      <td>15.6</td>\n",
       "      <td>Full HD 1920x1080</td>\n",
       "      <td>Intel Core i5 7200U 2.5GHz</td>\n",
       "      <td>8GB</td>\n",
       "      <td>256GB SSD</td>\n",
       "      <td>Intel HD Graphics 620</td>\n",
       "      <td>No OS</td>\n",
       "      <td>1.86kg</td>\n",
       "      <td>575.00</td>\n",
       "    </tr>\n",
       "    <tr>\n",
       "      <th>3</th>\n",
       "      <td>4</td>\n",
       "      <td>Apple</td>\n",
       "      <td>MacBook Pro</td>\n",
       "      <td>Ultrabook</td>\n",
       "      <td>15.4</td>\n",
       "      <td>IPS Panel Retina Display 2880x1800</td>\n",
       "      <td>Intel Core i7 2.7GHz</td>\n",
       "      <td>16GB</td>\n",
       "      <td>512GB SSD</td>\n",
       "      <td>AMD Radeon Pro 455</td>\n",
       "      <td>macOS</td>\n",
       "      <td>1.83kg</td>\n",
       "      <td>2537.45</td>\n",
       "    </tr>\n",
       "    <tr>\n",
       "      <th>4</th>\n",
       "      <td>5</td>\n",
       "      <td>Apple</td>\n",
       "      <td>MacBook Pro</td>\n",
       "      <td>Ultrabook</td>\n",
       "      <td>13.3</td>\n",
       "      <td>IPS Panel Retina Display 2560x1600</td>\n",
       "      <td>Intel Core i5 3.1GHz</td>\n",
       "      <td>8GB</td>\n",
       "      <td>256GB SSD</td>\n",
       "      <td>Intel Iris Plus Graphics 650</td>\n",
       "      <td>macOS</td>\n",
       "      <td>1.37kg</td>\n",
       "      <td>1803.60</td>\n",
       "    </tr>\n",
       "  </tbody>\n",
       "</table>\n",
       "</div>"
      ],
      "text/plain": [
       "  laptop_ID Company      Product   TypeName  Inches  \\\n",
       "0         1   Apple  MacBook Pro  Ultrabook    13.3   \n",
       "1         2   Apple  Macbook Air  Ultrabook    13.3   \n",
       "2         3      HP       250 G6   Notebook    15.6   \n",
       "3         4   Apple  MacBook Pro  Ultrabook    15.4   \n",
       "4         5   Apple  MacBook Pro  Ultrabook    13.3   \n",
       "\n",
       "                     ScreenResolution                         Cpu   Ram  \\\n",
       "0  IPS Panel Retina Display 2560x1600        Intel Core i5 2.3GHz   8GB   \n",
       "1                            1440x900        Intel Core i5 1.8GHz   8GB   \n",
       "2                   Full HD 1920x1080  Intel Core i5 7200U 2.5GHz   8GB   \n",
       "3  IPS Panel Retina Display 2880x1800        Intel Core i7 2.7GHz  16GB   \n",
       "4  IPS Panel Retina Display 2560x1600        Intel Core i5 3.1GHz   8GB   \n",
       "\n",
       "                Memory                           Gpu  OpSys  Weight  \\\n",
       "0            128GB SSD  Intel Iris Plus Graphics 640  macOS  1.37kg   \n",
       "1  128GB Flash Storage        Intel HD Graphics 6000  macOS  1.34kg   \n",
       "2            256GB SSD         Intel HD Graphics 620  No OS  1.86kg   \n",
       "3            512GB SSD            AMD Radeon Pro 455  macOS  1.83kg   \n",
       "4            256GB SSD  Intel Iris Plus Graphics 650  macOS  1.37kg   \n",
       "\n",
       "   Price_euros  \n",
       "0      1339.69  \n",
       "1       898.94  \n",
       "2       575.00  \n",
       "3      2537.45  \n",
       "4      1803.60  "
      ]
     },
     "execution_count": 44,
     "metadata": {},
     "output_type": "execute_result"
    }
   ],
   "source": [
    "df.head()"
   ]
  },
  {
   "cell_type": "code",
   "execution_count": 45,
   "id": "9970f6f8",
   "metadata": {},
   "outputs": [
    {
     "name": "stdout",
     "output_type": "stream",
     "text": [
      "<class 'pandas.core.frame.DataFrame'>\n",
      "RangeIndex: 1303 entries, 0 to 1302\n",
      "Data columns (total 13 columns):\n",
      " #   Column            Non-Null Count  Dtype  \n",
      "---  ------            --------------  -----  \n",
      " 0   laptop_ID         1303 non-null   object \n",
      " 1   Company           1295 non-null   object \n",
      " 2   Product           1295 non-null   object \n",
      " 3   TypeName          1295 non-null   object \n",
      " 4   Inches            1295 non-null   float64\n",
      " 5   ScreenResolution  1295 non-null   object \n",
      " 6   Cpu               1295 non-null   object \n",
      " 7   Ram               1295 non-null   object \n",
      " 8   Memory            1295 non-null   object \n",
      " 9   Gpu               1295 non-null   object \n",
      " 10  OpSys             1295 non-null   object \n",
      " 11  Weight            1295 non-null   object \n",
      " 12  Price_euros       1295 non-null   float64\n",
      "dtypes: float64(2), object(11)\n",
      "memory usage: 132.5+ KB\n"
     ]
    }
   ],
   "source": [
    "df.info()"
   ]
  },
  {
   "cell_type": "code",
   "execution_count": 46,
   "id": "c7f50dbd",
   "metadata": {},
   "outputs": [
    {
     "data": {
      "text/html": [
       "<div>\n",
       "<style scoped>\n",
       "    .dataframe tbody tr th:only-of-type {\n",
       "        vertical-align: middle;\n",
       "    }\n",
       "\n",
       "    .dataframe tbody tr th {\n",
       "        vertical-align: top;\n",
       "    }\n",
       "\n",
       "    .dataframe thead th {\n",
       "        text-align: right;\n",
       "    }\n",
       "</style>\n",
       "<table border=\"1\" class=\"dataframe\">\n",
       "  <thead>\n",
       "    <tr style=\"text-align: right;\">\n",
       "      <th></th>\n",
       "      <th>Inches</th>\n",
       "      <th>Price_euros</th>\n",
       "    </tr>\n",
       "  </thead>\n",
       "  <tbody>\n",
       "    <tr>\n",
       "      <th>count</th>\n",
       "      <td>1295.000000</td>\n",
       "      <td>1295.000000</td>\n",
       "    </tr>\n",
       "    <tr>\n",
       "      <th>mean</th>\n",
       "      <td>15.030270</td>\n",
       "      <td>1124.317266</td>\n",
       "    </tr>\n",
       "    <tr>\n",
       "      <th>std</th>\n",
       "      <td>1.415632</td>\n",
       "      <td>700.193254</td>\n",
       "    </tr>\n",
       "    <tr>\n",
       "      <th>min</th>\n",
       "      <td>10.100000</td>\n",
       "      <td>174.000000</td>\n",
       "    </tr>\n",
       "    <tr>\n",
       "      <th>25%</th>\n",
       "      <td>14.000000</td>\n",
       "      <td>599.000000</td>\n",
       "    </tr>\n",
       "    <tr>\n",
       "      <th>50%</th>\n",
       "      <td>15.600000</td>\n",
       "      <td>977.000000</td>\n",
       "    </tr>\n",
       "    <tr>\n",
       "      <th>75%</th>\n",
       "      <td>15.600000</td>\n",
       "      <td>1489.495000</td>\n",
       "    </tr>\n",
       "    <tr>\n",
       "      <th>max</th>\n",
       "      <td>18.400000</td>\n",
       "      <td>6099.000000</td>\n",
       "    </tr>\n",
       "  </tbody>\n",
       "</table>\n",
       "</div>"
      ],
      "text/plain": [
       "            Inches  Price_euros\n",
       "count  1295.000000  1295.000000\n",
       "mean     15.030270  1124.317266\n",
       "std       1.415632   700.193254\n",
       "min      10.100000   174.000000\n",
       "25%      14.000000   599.000000\n",
       "50%      15.600000   977.000000\n",
       "75%      15.600000  1489.495000\n",
       "max      18.400000  6099.000000"
      ]
     },
     "execution_count": 46,
     "metadata": {},
     "output_type": "execute_result"
    }
   ],
   "source": [
    "df.describe()"
   ]
  },
  {
   "cell_type": "code",
   "execution_count": 47,
   "id": "6a57e464",
   "metadata": {},
   "outputs": [
    {
     "data": {
      "text/html": [
       "<div>\n",
       "<style scoped>\n",
       "    .dataframe tbody tr th:only-of-type {\n",
       "        vertical-align: middle;\n",
       "    }\n",
       "\n",
       "    .dataframe tbody tr th {\n",
       "        vertical-align: top;\n",
       "    }\n",
       "\n",
       "    .dataframe thead th {\n",
       "        text-align: right;\n",
       "    }\n",
       "</style>\n",
       "<table border=\"1\" class=\"dataframe\">\n",
       "  <thead>\n",
       "    <tr style=\"text-align: right;\">\n",
       "      <th></th>\n",
       "      <th>laptop_ID</th>\n",
       "      <th>Company</th>\n",
       "      <th>Product</th>\n",
       "      <th>TypeName</th>\n",
       "      <th>ScreenResolution</th>\n",
       "      <th>Cpu</th>\n",
       "      <th>Ram</th>\n",
       "      <th>Memory</th>\n",
       "      <th>Gpu</th>\n",
       "      <th>OpSys</th>\n",
       "      <th>Weight</th>\n",
       "    </tr>\n",
       "  </thead>\n",
       "  <tbody>\n",
       "    <tr>\n",
       "      <th>count</th>\n",
       "      <td>1303</td>\n",
       "      <td>1295</td>\n",
       "      <td>1295</td>\n",
       "      <td>1295</td>\n",
       "      <td>1295</td>\n",
       "      <td>1295</td>\n",
       "      <td>1295</td>\n",
       "      <td>1295</td>\n",
       "      <td>1295</td>\n",
       "      <td>1295</td>\n",
       "      <td>1295</td>\n",
       "    </tr>\n",
       "    <tr>\n",
       "      <th>unique</th>\n",
       "      <td>1303</td>\n",
       "      <td>19</td>\n",
       "      <td>615</td>\n",
       "      <td>6</td>\n",
       "      <td>39</td>\n",
       "      <td>113</td>\n",
       "      <td>9</td>\n",
       "      <td>38</td>\n",
       "      <td>109</td>\n",
       "      <td>9</td>\n",
       "      <td>176</td>\n",
       "    </tr>\n",
       "    <tr>\n",
       "      <th>top</th>\n",
       "      <td>1</td>\n",
       "      <td>Dell</td>\n",
       "      <td>XPS 13</td>\n",
       "      <td>Notebook</td>\n",
       "      <td>Full HD 1920x1080</td>\n",
       "      <td>Intel Core i5 7200U 2.5GHz</td>\n",
       "      <td>8GB</td>\n",
       "      <td>256GB SSD</td>\n",
       "      <td>Intel HD Graphics 620</td>\n",
       "      <td>Windows 10</td>\n",
       "      <td>2.2kg</td>\n",
       "    </tr>\n",
       "    <tr>\n",
       "      <th>freq</th>\n",
       "      <td>1</td>\n",
       "      <td>297</td>\n",
       "      <td>30</td>\n",
       "      <td>725</td>\n",
       "      <td>505</td>\n",
       "      <td>190</td>\n",
       "      <td>613</td>\n",
       "      <td>411</td>\n",
       "      <td>281</td>\n",
       "      <td>1070</td>\n",
       "      <td>121</td>\n",
       "    </tr>\n",
       "  </tbody>\n",
       "</table>\n",
       "</div>"
      ],
      "text/plain": [
       "       laptop_ID Company Product  TypeName   ScreenResolution  \\\n",
       "count       1303    1295    1295      1295               1295   \n",
       "unique      1303      19     615         6                 39   \n",
       "top            1    Dell  XPS 13  Notebook  Full HD 1920x1080   \n",
       "freq           1     297      30       725                505   \n",
       "\n",
       "                               Cpu   Ram     Memory                    Gpu  \\\n",
       "count                         1295  1295       1295                   1295   \n",
       "unique                         113     9         38                    109   \n",
       "top     Intel Core i5 7200U 2.5GHz   8GB  256GB SSD  Intel HD Graphics 620   \n",
       "freq                           190   613        411                    281   \n",
       "\n",
       "             OpSys Weight  \n",
       "count         1295   1295  \n",
       "unique           9    176  \n",
       "top     Windows 10  2.2kg  \n",
       "freq          1070    121  "
      ]
     },
     "execution_count": 47,
     "metadata": {},
     "output_type": "execute_result"
    }
   ],
   "source": [
    "df.describe(include=['object'])"
   ]
  },
  {
   "cell_type": "code",
   "execution_count": 48,
   "id": "f0068a56",
   "metadata": {},
   "outputs": [
    {
     "data": {
      "text/plain": [
       "Dell         297\n",
       "Lenovo       297\n",
       "HP           274\n",
       "Asus         158\n",
       "Acer         103\n",
       "MSI           54\n",
       "Toshiba       48\n",
       "Apple         15\n",
       "Samsung        9\n",
       "Razer          7\n",
       "Mediacom       7\n",
       "Microsoft      6\n",
       "Xiaomi         4\n",
       "Vero           4\n",
       "Google         3\n",
       "Fujitsu        3\n",
       "LG             3\n",
       "Huawei         2\n",
       "Chuwi          1\n",
       "Name: Company, dtype: int64"
      ]
     },
     "execution_count": 48,
     "metadata": {},
     "output_type": "execute_result"
    }
   ],
   "source": [
    "df['Company'].value_counts()"
   ]
  },
  {
   "cell_type": "code",
   "execution_count": 49,
   "id": "c879c5ec",
   "metadata": {},
   "outputs": [
    {
     "data": {
      "text/plain": [
       "(174.0, 6099.0)"
      ]
     },
     "execution_count": 49,
     "metadata": {},
     "output_type": "execute_result"
    }
   ],
   "source": [
    "df['Price_euros'].min(), df['Price_euros'].max()"
   ]
  },
  {
   "cell_type": "code",
   "execution_count": 50,
   "id": "523ecdb6",
   "metadata": {},
   "outputs": [
    {
     "data": {
      "text/plain": [
       "laptop_ID                                           200\n",
       "Company                                           Razer\n",
       "Product                                       Blade Pro\n",
       "TypeName                                         Gaming\n",
       "Inches                                             17.3\n",
       "ScreenResolution    4K Ultra HD / Touchscreen 3840x2160\n",
       "Cpu                         Intel Core i7 7820HK 2.9GHz\n",
       "Ram                                                32GB\n",
       "Memory                                          1TB SSD\n",
       "Gpu                             Nvidia GeForce GTX 1080\n",
       "OpSys                                        Windows 10\n",
       "Weight                                           3.49kg\n",
       "Price_euros                                      6099.0\n",
       "Name: 196, dtype: object"
      ]
     },
     "execution_count": 50,
     "metadata": {},
     "output_type": "execute_result"
    }
   ],
   "source": [
    "df.sort_values('Price_euros', ascending=False).iloc[0]"
   ]
  },
  {
   "cell_type": "code",
   "execution_count": 51,
   "id": "35803eed",
   "metadata": {},
   "outputs": [
    {
     "data": {
      "text/html": [
       "<div>\n",
       "<style scoped>\n",
       "    .dataframe tbody tr th:only-of-type {\n",
       "        vertical-align: middle;\n",
       "    }\n",
       "\n",
       "    .dataframe tbody tr th {\n",
       "        vertical-align: top;\n",
       "    }\n",
       "\n",
       "    .dataframe thead th {\n",
       "        text-align: right;\n",
       "    }\n",
       "</style>\n",
       "<table border=\"1\" class=\"dataframe\">\n",
       "  <thead>\n",
       "    <tr style=\"text-align: right;\">\n",
       "      <th></th>\n",
       "      <th>Company</th>\n",
       "      <th>TypeName</th>\n",
       "      <th>Inches</th>\n",
       "      <th>Price_euros</th>\n",
       "    </tr>\n",
       "  </thead>\n",
       "  <tbody>\n",
       "    <tr>\n",
       "      <th>50</th>\n",
       "      <td>Lenovo</td>\n",
       "      <td>2 in 1 Convertible</td>\n",
       "      <td>10.1</td>\n",
       "      <td>319.00</td>\n",
       "    </tr>\n",
       "    <tr>\n",
       "      <th>1082</th>\n",
       "      <td>Lenovo</td>\n",
       "      <td>2 in 1 Convertible</td>\n",
       "      <td>10.1</td>\n",
       "      <td>646.27</td>\n",
       "    </tr>\n",
       "    <tr>\n",
       "      <th>1114</th>\n",
       "      <td>Lenovo</td>\n",
       "      <td>2 in 1 Convertible</td>\n",
       "      <td>10.1</td>\n",
       "      <td>549.00</td>\n",
       "    </tr>\n",
       "    <tr>\n",
       "      <th>1126</th>\n",
       "      <td>Lenovo</td>\n",
       "      <td>2 in 1 Convertible</td>\n",
       "      <td>10.1</td>\n",
       "      <td>479.00</td>\n",
       "    </tr>\n",
       "  </tbody>\n",
       "</table>\n",
       "</div>"
      ],
      "text/plain": [
       "     Company            TypeName  Inches  Price_euros\n",
       "50    Lenovo  2 in 1 Convertible    10.1       319.00\n",
       "1082  Lenovo  2 in 1 Convertible    10.1       646.27\n",
       "1114  Lenovo  2 in 1 Convertible    10.1       549.00\n",
       "1126  Lenovo  2 in 1 Convertible    10.1       479.00"
      ]
     },
     "execution_count": 51,
     "metadata": {},
     "output_type": "execute_result"
    }
   ],
   "source": [
    "df[df['Inches'] == df['Inches'].min()][['Company', 'TypeName', 'Inches', 'Price_euros']]"
   ]
  },
  {
   "cell_type": "code",
   "execution_count": 52,
   "id": "1bb55a51",
   "metadata": {},
   "outputs": [
    {
     "data": {
      "text/plain": [
       "4389.0"
      ]
     },
     "execution_count": 52,
     "metadata": {},
     "output_type": "execute_result"
    }
   ],
   "source": [
    "df[df['Company'] == 'HP']['Price_euros'].max()"
   ]
  },
  {
   "cell_type": "code",
   "execution_count": 53,
   "id": "16e09a97",
   "metadata": {},
   "outputs": [
    {
     "data": {
      "text/plain": [
       "134"
      ]
     },
     "execution_count": 53,
     "metadata": {},
     "output_type": "execute_result"
    }
   ],
   "source": [
    "ultra_8 = df[(df['TypeName'] == 'Ultrabook') & (df['Ram'] == '8GB')].shape[0]\n",
    "ultra_8"
   ]
  },
  {
   "cell_type": "code",
   "execution_count": 54,
   "id": "5da097a9",
   "metadata": {},
   "outputs": [
    {
     "data": {
      "text/plain": [
       "190"
      ]
     },
     "execution_count": 54,
     "metadata": {},
     "output_type": "execute_result"
    }
   ],
   "source": [
    "ultra = df[df['TypeName'] == 'Ultrabook'].shape[0]\n",
    "ultra"
   ]
  },
  {
   "cell_type": "code",
   "execution_count": 55,
   "id": "89f97801",
   "metadata": {},
   "outputs": [
    {
     "data": {
      "text/plain": [
       "70.52631578947368"
      ]
     },
     "execution_count": 55,
     "metadata": {},
     "output_type": "execute_result"
    }
   ],
   "source": [
    "ultra_8/ultra*100"
   ]
  },
  {
   "cell_type": "code",
   "execution_count": 56,
   "id": "f34ecf6f",
   "metadata": {},
   "outputs": [
    {
     "data": {
      "text/plain": [
       "13"
      ]
     },
     "execution_count": 56,
     "metadata": {},
     "output_type": "execute_result"
    }
   ],
   "source": [
    "df[\n",
    "    (df['OpSys'] == 'Windows 10') &\n",
    "    (df['Ram'].isin(['8GB', '16GB'])) &\n",
    "    (df['Price_euros'] < 500)\n",
    "].shape[0]"
   ]
  },
  {
   "cell_type": "code",
   "execution_count": 57,
   "id": "0b7737d3",
   "metadata": {},
   "outputs": [],
   "source": [
    "df_client = df[\n",
    "    (df['Company'] == 'MSI') & \n",
    "    ~(df['Inches'] == 15.6) &\n",
    "    (df['Gpu'] == 'Nvidia GeForce GTX 1050 Ti')\n",
    "]"
   ]
  },
  {
   "cell_type": "code",
   "execution_count": 58,
   "id": "8189ac4b",
   "metadata": {},
   "outputs": [
    {
     "data": {
      "text/plain": [
       "(1199.0, 1599.0)"
      ]
     },
     "execution_count": 58,
     "metadata": {},
     "output_type": "execute_result"
    }
   ],
   "source": [
    "df_client['Price_euros'].min(), df_client['Price_euros'].max()"
   ]
  },
  {
   "cell_type": "code",
   "execution_count": 59,
   "id": "b88ac61e",
   "metadata": {},
   "outputs": [
    {
     "data": {
      "text/plain": [
       "(1760.4084246575342, 1915.710769230769)"
      ]
     },
     "execution_count": 59,
     "metadata": {},
     "output_type": "execute_result"
    }
   ],
   "source": [
    "a = df[df['Cpu'] == 'Intel Core i7 7700HQ 2.8GHz']['Price_euros'].mean()\n",
    "b = df[df['Cpu'] == 'Intel Core i7 7600U 2.8GHz']['Price_euros'].mean()\n",
    "a, b"
   ]
  },
  {
   "cell_type": "code",
   "execution_count": 61,
   "id": "d3ae07dc",
   "metadata": {},
   "outputs": [
    {
     "data": {
      "text/plain": [
       "0       0.69\n",
       "1       0.69\n",
       "2       0.69\n",
       "3       0.69\n",
       "4       0.69\n",
       "        ... \n",
       "1298    0.69\n",
       "1299    0.69\n",
       "1300    0.69\n",
       "1301    0.69\n",
       "1302    0.69\n",
       "Name: Weight, Length: 1303, dtype: float64"
      ]
     },
     "execution_count": 61,
     "metadata": {},
     "output_type": "execute_result"
    }
   ],
   "source": [
    "df['Weight'] = df['Weight'].str.replace('kg', '').astype('float')\n",
    "df['Weight']"
   ]
  },
  {
   "cell_type": "code",
   "execution_count": 62,
   "id": "a8ab7914",
   "metadata": {},
   "outputs": [
    {
     "data": {
      "text/plain": [
       "0.69"
      ]
     },
     "execution_count": 62,
     "metadata": {},
     "output_type": "execute_result"
    }
   ],
   "source": [
    "df['Weight'].min()"
   ]
  }
 ],
 "metadata": {
  "kernelspec": {
   "display_name": "Python 3 (ipykernel)",
   "language": "python",
   "name": "python3"
  },
  "language_info": {
   "codemirror_mode": {
    "name": "ipython",
    "version": 3
   },
   "file_extension": ".py",
   "mimetype": "text/x-python",
   "name": "python",
   "nbconvert_exporter": "python",
   "pygments_lexer": "ipython3",
   "version": "3.9.10"
  }
 },
 "nbformat": 4,
 "nbformat_minor": 5
}
